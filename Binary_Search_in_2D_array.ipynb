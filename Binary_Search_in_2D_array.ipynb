{
  "nbformat": 4,
  "nbformat_minor": 0,
  "metadata": {
    "colab": {
      "provenance": [],
      "authorship_tag": "ABX9TyPCxLnRNQDtIXu1TYVWymtt",
      "include_colab_link": true
    },
    "kernelspec": {
      "name": "python3",
      "display_name": "Python 3"
    },
    "language_info": {
      "name": "python"
    }
  },
  "cells": [
    {
      "cell_type": "markdown",
      "metadata": {
        "id": "view-in-github",
        "colab_type": "text"
      },
      "source": [
        "<a href=\"https://colab.research.google.com/github/digvijaymudde/Data-Structure/blob/main/Binary_Search_in_2D_array.ipynb\" target=\"_parent\"><img src=\"https://colab.research.google.com/assets/colab-badge.svg\" alt=\"Open In Colab\"/></a>"
      ]
    },
    {
      "cell_type": "code",
      "execution_count": null,
      "metadata": {
        "colab": {
          "base_uri": "https://localhost:8080/"
        },
        "id": "_zSqADOzTgO5",
        "outputId": "3e28d2e4-451c-42a4-9a92-fa9e2a062e54"
      },
      "outputs": [
        {
          "output_type": "stream",
          "name": "stdout",
          "text": [
            "(1, 1)\n"
          ]
        }
      ],
      "source": [
        "#binary search in 2D array\n",
        "def search2DArray(arr,target):\n",
        "  row = len(arr)\n",
        "  col = len(arr[0])\n",
        "  left = 0\n",
        "  right = (row*col)-1\n",
        "\n",
        "  while left <= right:\n",
        "    mid = left + (right - left)//2\n",
        "\n",
        "    curr_element = arr[mid//col][mid%col]\n",
        "\n",
        "    if curr_element == target:\n",
        "      return mid//col, mid%col\n",
        "    elif curr_element < target:\n",
        "      left = mid+1\n",
        "    else:\n",
        "      right = mid-1\n",
        "  return False\n",
        "\n",
        "\n",
        "\n",
        "\n",
        "#driver code\n",
        "arr= [[1,3,5,7],[10,11,16,20],[23,30,34,60]]\n",
        "target = 11\n",
        "result = search2DArray(arr,target)\n",
        "print(result)"
      ]
    },
    {
      "cell_type": "code",
      "source": [],
      "metadata": {
        "id": "QCThh2CEV1jB"
      },
      "execution_count": null,
      "outputs": []
    }
  ]
}