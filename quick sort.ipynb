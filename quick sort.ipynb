{
  "nbformat": 4,
  "nbformat_minor": 0,
  "metadata": {
    "colab": {
      "provenance": [],
      "authorship_tag": "ABX9TyM7MfK7sF7UNXp/oR3XOk48",
      "include_colab_link": true
    },
    "kernelspec": {
      "name": "python3",
      "display_name": "Python 3"
    },
    "language_info": {
      "name": "python"
    }
  },
  "cells": [
    {
      "cell_type": "markdown",
      "metadata": {
        "id": "view-in-github",
        "colab_type": "text"
      },
      "source": [
        "<a href=\"https://colab.research.google.com/github/digvijaymudde/Data-Structure/blob/main/quick%20sort.ipynb\" target=\"_parent\"><img src=\"https://colab.research.google.com/assets/colab-badge.svg\" alt=\"Open In Colab\"/></a>"
      ]
    },
    {
      "cell_type": "code",
      "execution_count": 4,
      "metadata": {
        "colab": {
          "base_uri": "https://localhost:8080/"
        },
        "id": "YgkDznGHqqUj",
        "outputId": "3484563a-2d61-4a82-bb3f-69216cbee323"
      },
      "outputs": [
        {
          "output_type": "stream",
          "name": "stdout",
          "text": [
            "[10, 29, 12, 15, 46, 2, 50, 100, 67, 70]\n",
            "[2, 10, 12, 15, 46, 29, 50, 100, 67, 70]\n",
            "[2, 10, 12, 15, 46, 29, 50, 100, 67, 70]\n",
            "[2, 10, 12, 15, 46, 29, 50, 100, 67, 70]\n",
            "[2, 10, 12, 15, 29, 46, 50, 100, 67, 70]\n",
            "[2, 10, 12, 15, 29, 46, 50, 70, 67, 100]\n",
            "[2, 10, 12, 15, 29, 46, 50, 67, 70, 100]\n",
            "[2, 10, 12, 15, 29, 46, 50, 67, 70, 100]\n"
          ]
        }
      ],
      "source": [
        "# method defination for patition\n",
        "def partition(arr,p,q):\n",
        "  pivot = arr[p]\n",
        "  i = p\n",
        "  for j in range(i+1, q+1):\n",
        "    if arr[j]<=pivot:\n",
        "      i=i+1\n",
        "      # swap between the values of arr[i] and arr[j]\n",
        "      arr[i],arr[j]=arr[j],arr[i]\n",
        "\n",
        "  #final swap between the value arr[i] and arr[p]\n",
        "  arr[i],arr[p] = arr[p],arr[i]\n",
        "  print(arr)\n",
        "  return i\n",
        "\n",
        "#method defination for quicksort\n",
        "def quickSort(arr, p, q):\n",
        "  if p<q:\n",
        "    #divide and conquer approch\n",
        "    #1 dividing\n",
        "    # function calling for patition method\n",
        "    mid = partition(arr,p,q)\n",
        "\n",
        "    #recusrive function call for left subtree\n",
        "    quickSort(arr, p, mid-1)\n",
        "    #recursive function call for right subtree\n",
        "    quickSort(arr,mid+1,q)\n",
        "\n",
        "  return arr\n",
        "\n",
        "\n",
        "arr = [50,70,29,67,12,15,46,100,2,10]\n",
        "p = 0\n",
        "q = len(arr)-1\n",
        "\n",
        "result = quickSort(arr, p, q)\n",
        "print(result)"
      ]
    },
    {
      "cell_type": "code",
      "source": [],
      "metadata": {
        "id": "CgD7wztmtWF9"
      },
      "execution_count": null,
      "outputs": []
    }
  ]
}