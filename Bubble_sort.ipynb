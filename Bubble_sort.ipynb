{
  "nbformat": 4,
  "nbformat_minor": 0,
  "metadata": {
    "colab": {
      "provenance": [],
      "authorship_tag": "ABX9TyMW21rTnw0zjWaA607tBF5c",
      "include_colab_link": true
    },
    "kernelspec": {
      "name": "python3",
      "display_name": "Python 3"
    },
    "language_info": {
      "name": "python"
    }
  },
  "cells": [
    {
      "cell_type": "markdown",
      "metadata": {
        "id": "view-in-github",
        "colab_type": "text"
      },
      "source": [
        "<a href=\"https://colab.research.google.com/github/digvijaymudde/Data-Structure/blob/main/Bubble_sort.ipynb\" target=\"_parent\"><img src=\"https://colab.research.google.com/assets/colab-badge.svg\" alt=\"Open In Colab\"/></a>"
      ]
    },
    {
      "cell_type": "code",
      "execution_count": 1,
      "metadata": {
        "colab": {
          "base_uri": "https://localhost:8080/"
        },
        "id": "C8z8LMuTsFO_",
        "outputId": "1d9a8ae1-e317-45c9-d10d-8ea7672343f3"
      },
      "outputs": [
        {
          "output_type": "stream",
          "name": "stdout",
          "text": [
            "[11, 12, 22, 25, 34, 64, 90]\n"
          ]
        }
      ],
      "source": [
        "def bubble_sort(arr):\n",
        "  for i in range(len(arr)-1):\n",
        "    for j in range(1, len(arr)-i-1):\n",
        "      if arr[j] < arr[j-1]:\n",
        "        arr[j], arr[j-1] = arr[j-1], arr[j]\n",
        "\n",
        "\n",
        "  return arr\n",
        "\n",
        "\n",
        "#driver code\n",
        "arr = [64, 34, 25, 12, 22, 11, 90]\n",
        "result = bubble_sort(arr)\n",
        "print(result)\n"
      ]
    },
    {
      "cell_type": "code",
      "source": [],
      "metadata": {
        "id": "iNZLhEOltQix"
      },
      "execution_count": null,
      "outputs": []
    }
  ]
}