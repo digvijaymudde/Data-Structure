{
  "nbformat": 4,
  "nbformat_minor": 0,
  "metadata": {
    "colab": {
      "provenance": [],
      "authorship_tag": "ABX9TyPPw4vBLcFMMsXauRWfkpmX",
      "include_colab_link": true
    },
    "kernelspec": {
      "name": "python3",
      "display_name": "Python 3"
    },
    "language_info": {
      "name": "python"
    }
  },
  "cells": [
    {
      "cell_type": "markdown",
      "metadata": {
        "id": "view-in-github",
        "colab_type": "text"
      },
      "source": [
        "<a href=\"https://colab.research.google.com/github/digvijaymudde/Data-Structure/blob/main/Selection_sort.ipynb\" target=\"_parent\"><img src=\"https://colab.research.google.com/assets/colab-badge.svg\" alt=\"Open In Colab\"/></a>"
      ]
    },
    {
      "cell_type": "markdown",
      "source": [],
      "metadata": {
        "id": "BrbqAGgC23g6"
      }
    },
    {
      "cell_type": "markdown",
      "source": [
        "Selection sort"
      ],
      "metadata": {
        "id": "y4v65HvK2730"
      }
    },
    {
      "cell_type": "code",
      "source": [
        "def selection_sort(arr):\n",
        "  for i in range(0,len(arr)):\n",
        "\n",
        "    min_index = i\n",
        "    print(\"inside i \", i, min_index )\n",
        "    for j in range(i,len(arr)):\n",
        "      if arr[min_index]>arr[j]:\n",
        "        min_index = j\n",
        "        print(\"min_index\",arr[min_index],\"at \",min_index,\"in \",arr)\n",
        "    arr[min_index],arr[i] =arr[i],arr[min_index]\n",
        "\n",
        "  return arr\n",
        "\n",
        "\n",
        "#driver code\n",
        "arr = [64, 34, 25, 12, 22,90, 11]\n",
        "result = selection_sort(arr)\n",
        "print(result)"
      ],
      "metadata": {
        "colab": {
          "base_uri": "https://localhost:8080/"
        },
        "id": "oWZ3GQT62-I6",
        "outputId": "b3f0d5f7-0a1f-4ab2-f14b-688a20d3f477"
      },
      "execution_count": 12,
      "outputs": [
        {
          "output_type": "stream",
          "name": "stdout",
          "text": [
            "inside i  0 0\n",
            "min_index 34 at  1 in  [64, 34, 25, 12, 22, 90, 11]\n",
            "min_index 25 at  2 in  [64, 34, 25, 12, 22, 90, 11]\n",
            "min_index 12 at  3 in  [64, 34, 25, 12, 22, 90, 11]\n",
            "min_index 11 at  6 in  [64, 34, 25, 12, 22, 90, 11]\n",
            "inside i  1 1\n",
            "min_index 25 at  2 in  [11, 34, 25, 12, 22, 90, 64]\n",
            "min_index 12 at  3 in  [11, 34, 25, 12, 22, 90, 64]\n",
            "inside i  2 2\n",
            "min_index 22 at  4 in  [11, 12, 25, 34, 22, 90, 64]\n",
            "inside i  3 3\n",
            "min_index 25 at  4 in  [11, 12, 22, 34, 25, 90, 64]\n",
            "inside i  4 4\n",
            "inside i  5 5\n",
            "min_index 64 at  6 in  [11, 12, 22, 25, 34, 90, 64]\n",
            "inside i  6 6\n",
            "[11, 12, 22, 25, 34, 64, 90]\n"
          ]
        }
      ]
    }
  ]
}