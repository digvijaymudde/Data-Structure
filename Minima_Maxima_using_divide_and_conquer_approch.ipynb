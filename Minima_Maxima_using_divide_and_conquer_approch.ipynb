{
  "nbformat": 4,
  "nbformat_minor": 0,
  "metadata": {
    "colab": {
      "provenance": [],
      "authorship_tag": "ABX9TyPTm46+nGhd9mal6FRdAkny",
      "include_colab_link": true
    },
    "kernelspec": {
      "name": "python3",
      "display_name": "Python 3"
    },
    "language_info": {
      "name": "python"
    }
  },
  "cells": [
    {
      "cell_type": "markdown",
      "metadata": {
        "id": "view-in-github",
        "colab_type": "text"
      },
      "source": [
        "<a href=\"https://colab.research.google.com/github/digvijaymudde/Data-Structure/blob/main/Minima_Maxima_using_divide_and_conquer_approch.ipynb\" target=\"_parent\"><img src=\"https://colab.research.google.com/assets/colab-badge.svg\" alt=\"Open In Colab\"/></a>"
      ]
    },
    {
      "cell_type": "code",
      "execution_count": null,
      "metadata": {
        "colab": {
          "base_uri": "https://localhost:8080/"
        },
        "id": "i1MX4JeCukzq",
        "outputId": "cf212fbe-98f5-4852-fd4f-7c966ae00378"
      },
      "outputs": [
        {
          "output_type": "stream",
          "name": "stdout",
          "text": [
            "Maximum value in arr is 92 and minimum value is 20\n"
          ]
        }
      ],
      "source": [
        "def findMaxandMin(arr,i,j):\n",
        "  #single element problem\n",
        "  if i == j :\n",
        "    max_val = arr[i]\n",
        "    min_val = arr[i]\n",
        "\n",
        "  #two element condition\n",
        "  elif i == j-1:\n",
        "    if arr[i]>arr[j]:\n",
        "      max_val = arr[i]\n",
        "      min_val = arr[j]\n",
        "    else:\n",
        "      max_val = arr[j]\n",
        "      min_val = arr[i]\n",
        "\n",
        "  #big problem n<2 apply\n",
        "  else:\n",
        "    #divide and conquer approch\n",
        "    # 1.Dividing\n",
        "    mid = i +(j-i)//2\n",
        "\n",
        "    #2.Recursion -> Conquer\n",
        "    max1,min1 = findMaxandMin(arr,i,mid)\n",
        "    max2,min2 = findMaxandMin(arr,mid+1,j)\n",
        "\n",
        "    #3>combine\n",
        "    # to find max val\n",
        "    if max1<max2:\n",
        "      max_val = max2\n",
        "    else:\n",
        "      max_val = max1\n",
        "\n",
        "    # to find min val\n",
        "    if min1< min2:\n",
        "      min_val = min1\n",
        "    else:\n",
        "      min_val = min2\n",
        "  return max_val, min_val\n",
        "\n",
        "\n",
        "\n",
        "arr = [20,39,45,65,21,44,89,92]\n",
        "i=0\n",
        "j=len(arr)-1\n",
        "\n",
        "max_val,min_val = findMaxandMin(arr,i,j)\n",
        "print(f\"Maximum value in arr is {max_val} and minimum value is {min_val}\")"
      ]
    },
    {
      "cell_type": "code",
      "source": [],
      "metadata": {
        "id": "ZpgLqpqDydbg"
      },
      "execution_count": null,
      "outputs": []
    }
  ]
}