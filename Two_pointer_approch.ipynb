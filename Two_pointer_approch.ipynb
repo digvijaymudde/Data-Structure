{
  "nbformat": 4,
  "nbformat_minor": 0,
  "metadata": {
    "colab": {
      "provenance": [],
      "mount_file_id": "1-BwRo3xjU2aLenKPlrf81y0V00hc9VS8",
      "authorship_tag": "ABX9TyNAgAXhAJ5m3WKz7kPHwE5k",
      "include_colab_link": true
    },
    "kernelspec": {
      "name": "python3",
      "display_name": "Python 3"
    },
    "language_info": {
      "name": "python"
    }
  },
  "cells": [
    {
      "cell_type": "markdown",
      "metadata": {
        "id": "view-in-github",
        "colab_type": "text"
      },
      "source": [
        "<a href=\"https://colab.research.google.com/github/digvijaymudde/Data-Structure/blob/main/Two_pointer_approch.ipynb\" target=\"_parent\"><img src=\"https://colab.research.google.com/assets/colab-badge.svg\" alt=\"Open In Colab\"/></a>"
      ]
    },
    {
      "cell_type": "markdown",
      "source": [],
      "metadata": {
        "id": "CKgzD5PXhGZy"
      }
    },
    {
      "cell_type": "markdown",
      "source": [
        "O(n2)"
      ],
      "metadata": {
        "id": "4ln1XMVAhJAW"
      }
    },
    {
      "cell_type": "code",
      "execution_count": null,
      "metadata": {
        "colab": {
          "base_uri": "https://localhost:8080/"
        },
        "id": "U5P1cP10e7Kr",
        "outputId": "74437ee6-3150-4ade-f7fb-6669c327af99"
      },
      "outputs": [
        {
          "output_type": "stream",
          "name": "stdout",
          "text": [
            "(4, 5)\n"
          ]
        }
      ],
      "source": [
        "#Not Optimize code\n",
        "def two_sum(arr,target):\n",
        "  for i in range(0,len(arr)):\n",
        "    for j in range(i,len(arr)):\n",
        "      if arr[i]+arr[j]==target:\n",
        "        return i,j\n",
        "  return -1,-1\n",
        "\n",
        "\n",
        "arr = [20,40,60,80,90,120,240]\n",
        "target = 210\n",
        "\n",
        "result = two_sum(arr,target)\n",
        "print(result)"
      ]
    },
    {
      "cell_type": "markdown",
      "source": [
        "O(n)"
      ],
      "metadata": {
        "id": "EDqY-x5ciV6s"
      }
    },
    {
      "cell_type": "code",
      "source": [
        "\n",
        "#Optimized code using two pointer Approch\n",
        "def two_sum(arr,target):\n",
        "  l=0\n",
        "  r=len(arr)-1\n",
        "  while l<r:\n",
        "    if arr[l]+arr[r] == target:\n",
        "      return l,r\n",
        "    elif arr[l]+arr[r] > target:\n",
        "      r = r-1\n",
        "    else:\n",
        "      l = l+1\n",
        "\n",
        "\n",
        "\n",
        "\n",
        "arr = [20,40,60,80,90,120,240]\n",
        "target = 210\n",
        "\n",
        "result = two_sum(arr,target)\n",
        "print(result)"
      ],
      "metadata": {
        "colab": {
          "base_uri": "https://localhost:8080/"
        },
        "id": "W1kakqiHhRSB",
        "outputId": "a8db89c3-6e12-4b02-dfde-2c25ecb4be37"
      },
      "execution_count": null,
      "outputs": [
        {
          "output_type": "stream",
          "name": "stdout",
          "text": [
            "(4, 5)\n"
          ]
        }
      ]
    },
    {
      "cell_type": "code",
      "source": [],
      "metadata": {
        "id": "sAb7frUyimtw"
      },
      "execution_count": null,
      "outputs": []
    }
  ]
}